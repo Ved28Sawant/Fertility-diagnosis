{
 "cells": [
  {
   "cell_type": "code",
   "execution_count": 1,
   "id": "c69c933e",
   "metadata": {},
   "outputs": [],
   "source": [
    "import pandas as pd\n",
    "import numpy as np"
   ]
  },
  {
   "cell_type": "code",
   "execution_count": 2,
   "id": "04e97f77",
   "metadata": {},
   "outputs": [],
   "source": [
    "df=pd.read_csv('fertility_Diagnosis.csv')"
   ]
  },
  {
   "cell_type": "code",
   "execution_count": 3,
   "id": "6971c060",
   "metadata": {},
   "outputs": [],
   "source": [
    "df['Diagnosis'].replace({'N':0,\"O\":1},inplace=True)"
   ]
  },
  {
   "cell_type": "code",
   "execution_count": 4,
   "id": "77a5d7d1",
   "metadata": {},
   "outputs": [],
   "source": [
    "df_class_0=df[df['Diagnosis']==0]\n",
    "df_class_1=df[df['Diagnosis']==1]"
   ]
  },
  {
   "cell_type": "code",
   "execution_count": 11,
   "id": "39842ff9",
   "metadata": {},
   "outputs": [
    {
     "data": {
      "text/plain": [
       "0    88\n",
       "1    88\n",
       "Name: Diagnosis, dtype: int64"
      ]
     },
     "execution_count": 11,
     "metadata": {},
     "output_type": "execute_result"
    }
   ],
   "source": [
    "df_test_over.Diagnosis.value_counts()"
   ]
  },
  {
   "cell_type": "code",
   "execution_count": 6,
   "id": "073ea178",
   "metadata": {},
   "outputs": [
    {
     "data": {
      "text/plain": [
       "(88, 10)"
      ]
     },
     "execution_count": 6,
     "metadata": {},
     "output_type": "execute_result"
    }
   ],
   "source": [
    "df_class_1_over=df_class_1.sample(88,replace=True)\n",
    "df_class_1_over.shape"
   ]
  },
  {
   "cell_type": "code",
   "execution_count": 7,
   "id": "b2deabd3",
   "metadata": {},
   "outputs": [],
   "source": [
    "df_test_over=pd.concat([df_class_0,df_class_1_over],axis=0)"
   ]
  },
  {
   "cell_type": "code",
   "execution_count": 8,
   "id": "91cda062",
   "metadata": {},
   "outputs": [
    {
     "data": {
      "text/plain": [
       "(176, 10)"
      ]
     },
     "execution_count": 8,
     "metadata": {},
     "output_type": "execute_result"
    }
   ],
   "source": [
    "df_test_over.shape"
   ]
  },
  {
   "cell_type": "code",
   "execution_count": 9,
   "id": "5fc54e1e",
   "metadata": {},
   "outputs": [
    {
     "data": {
      "text/html": [
       "<div>\n",
       "<style scoped>\n",
       "    .dataframe tbody tr th:only-of-type {\n",
       "        vertical-align: middle;\n",
       "    }\n",
       "\n",
       "    .dataframe tbody tr th {\n",
       "        vertical-align: top;\n",
       "    }\n",
       "\n",
       "    .dataframe thead th {\n",
       "        text-align: right;\n",
       "    }\n",
       "</style>\n",
       "<table border=\"1\" class=\"dataframe\">\n",
       "  <thead>\n",
       "    <tr style=\"text-align: right;\">\n",
       "      <th></th>\n",
       "      <th>Seasons</th>\n",
       "      <th>Age</th>\n",
       "      <th>Disease</th>\n",
       "      <th>Trauma</th>\n",
       "      <th>Surgical_intervention</th>\n",
       "      <th>Smoking</th>\n",
       "      <th>Fever</th>\n",
       "      <th>alcohol_consumption</th>\n",
       "      <th>Sitting</th>\n",
       "      <th>Diagnosis</th>\n",
       "    </tr>\n",
       "  </thead>\n",
       "  <tbody>\n",
       "    <tr>\n",
       "      <th>0</th>\n",
       "      <td>-0.33</td>\n",
       "      <td>0.69</td>\n",
       "      <td>0</td>\n",
       "      <td>1</td>\n",
       "      <td>1</td>\n",
       "      <td>0</td>\n",
       "      <td>0.8</td>\n",
       "      <td>0</td>\n",
       "      <td>0.88</td>\n",
       "      <td>0</td>\n",
       "    </tr>\n",
       "    <tr>\n",
       "      <th>2</th>\n",
       "      <td>-0.33</td>\n",
       "      <td>0.50</td>\n",
       "      <td>1</td>\n",
       "      <td>0</td>\n",
       "      <td>0</td>\n",
       "      <td>0</td>\n",
       "      <td>1.0</td>\n",
       "      <td>-1</td>\n",
       "      <td>0.50</td>\n",
       "      <td>0</td>\n",
       "    </tr>\n",
       "    <tr>\n",
       "      <th>3</th>\n",
       "      <td>-0.33</td>\n",
       "      <td>0.75</td>\n",
       "      <td>0</td>\n",
       "      <td>1</td>\n",
       "      <td>1</td>\n",
       "      <td>0</td>\n",
       "      <td>1.0</td>\n",
       "      <td>-1</td>\n",
       "      <td>0.38</td>\n",
       "      <td>0</td>\n",
       "    </tr>\n",
       "    <tr>\n",
       "      <th>5</th>\n",
       "      <td>-0.33</td>\n",
       "      <td>0.67</td>\n",
       "      <td>1</td>\n",
       "      <td>0</td>\n",
       "      <td>1</td>\n",
       "      <td>0</td>\n",
       "      <td>0.8</td>\n",
       "      <td>0</td>\n",
       "      <td>0.50</td>\n",
       "      <td>0</td>\n",
       "    </tr>\n",
       "    <tr>\n",
       "      <th>6</th>\n",
       "      <td>-0.33</td>\n",
       "      <td>0.67</td>\n",
       "      <td>0</td>\n",
       "      <td>0</td>\n",
       "      <td>0</td>\n",
       "      <td>-1</td>\n",
       "      <td>0.8</td>\n",
       "      <td>-1</td>\n",
       "      <td>0.44</td>\n",
       "      <td>0</td>\n",
       "    </tr>\n",
       "    <tr>\n",
       "      <th>...</th>\n",
       "      <td>...</td>\n",
       "      <td>...</td>\n",
       "      <td>...</td>\n",
       "      <td>...</td>\n",
       "      <td>...</td>\n",
       "      <td>...</td>\n",
       "      <td>...</td>\n",
       "      <td>...</td>\n",
       "      <td>...</td>\n",
       "      <td>...</td>\n",
       "    </tr>\n",
       "    <tr>\n",
       "      <th>23</th>\n",
       "      <td>1.00</td>\n",
       "      <td>0.69</td>\n",
       "      <td>1</td>\n",
       "      <td>0</td>\n",
       "      <td>1</td>\n",
       "      <td>-1</td>\n",
       "      <td>1.0</td>\n",
       "      <td>-1</td>\n",
       "      <td>0.44</td>\n",
       "      <td>1</td>\n",
       "    </tr>\n",
       "    <tr>\n",
       "      <th>27</th>\n",
       "      <td>1.00</td>\n",
       "      <td>0.78</td>\n",
       "      <td>1</td>\n",
       "      <td>1</td>\n",
       "      <td>0</td>\n",
       "      <td>1</td>\n",
       "      <td>0.6</td>\n",
       "      <td>-1</td>\n",
       "      <td>0.38</td>\n",
       "      <td>1</td>\n",
       "    </tr>\n",
       "    <tr>\n",
       "      <th>23</th>\n",
       "      <td>1.00</td>\n",
       "      <td>0.69</td>\n",
       "      <td>1</td>\n",
       "      <td>0</td>\n",
       "      <td>1</td>\n",
       "      <td>-1</td>\n",
       "      <td>1.0</td>\n",
       "      <td>-1</td>\n",
       "      <td>0.44</td>\n",
       "      <td>1</td>\n",
       "    </tr>\n",
       "    <tr>\n",
       "      <th>1</th>\n",
       "      <td>-0.33</td>\n",
       "      <td>0.94</td>\n",
       "      <td>1</td>\n",
       "      <td>0</td>\n",
       "      <td>1</td>\n",
       "      <td>0</td>\n",
       "      <td>0.8</td>\n",
       "      <td>1</td>\n",
       "      <td>0.31</td>\n",
       "      <td>1</td>\n",
       "    </tr>\n",
       "    <tr>\n",
       "      <th>4</th>\n",
       "      <td>-0.33</td>\n",
       "      <td>0.67</td>\n",
       "      <td>1</td>\n",
       "      <td>1</td>\n",
       "      <td>0</td>\n",
       "      <td>0</td>\n",
       "      <td>0.8</td>\n",
       "      <td>-1</td>\n",
       "      <td>0.50</td>\n",
       "      <td>1</td>\n",
       "    </tr>\n",
       "  </tbody>\n",
       "</table>\n",
       "<p>176 rows × 10 columns</p>\n",
       "</div>"
      ],
      "text/plain": [
       "    Seasons   Age  Disease  Trauma  Surgical_intervention  Smoking  Fever  \\\n",
       "0     -0.33  0.69        0       1                      1        0    0.8   \n",
       "2     -0.33  0.50        1       0                      0        0    1.0   \n",
       "3     -0.33  0.75        0       1                      1        0    1.0   \n",
       "5     -0.33  0.67        1       0                      1        0    0.8   \n",
       "6     -0.33  0.67        0       0                      0       -1    0.8   \n",
       "..      ...   ...      ...     ...                    ...      ...    ...   \n",
       "23     1.00  0.69        1       0                      1       -1    1.0   \n",
       "27     1.00  0.78        1       1                      0        1    0.6   \n",
       "23     1.00  0.69        1       0                      1       -1    1.0   \n",
       "1     -0.33  0.94        1       0                      1        0    0.8   \n",
       "4     -0.33  0.67        1       1                      0        0    0.8   \n",
       "\n",
       "    alcohol_consumption   Sitting  Diagnosis  \n",
       "0                      0     0.88          0  \n",
       "2                     -1     0.50          0  \n",
       "3                     -1     0.38          0  \n",
       "5                      0     0.50          0  \n",
       "6                     -1     0.44          0  \n",
       "..                   ...      ...        ...  \n",
       "23                    -1     0.44          1  \n",
       "27                    -1     0.38          1  \n",
       "23                    -1     0.44          1  \n",
       "1                      1     0.31          1  \n",
       "4                     -1     0.50          1  \n",
       "\n",
       "[176 rows x 10 columns]"
      ]
     },
     "execution_count": 9,
     "metadata": {},
     "output_type": "execute_result"
    }
   ],
   "source": [
    "df_test_over"
   ]
  },
  {
   "cell_type": "code",
   "execution_count": 12,
   "id": "fde5e93c",
   "metadata": {},
   "outputs": [],
   "source": [
    "df_test_over.to_csv(r\"C:\\Users\\VEDANG SAWANT\\Desktop\\Projects\\Diagnosis\\diagnosis.csv\")"
   ]
  }
 ],
 "metadata": {
  "kernelspec": {
   "display_name": "Python 3",
   "language": "python",
   "name": "python3"
  },
  "language_info": {
   "codemirror_mode": {
    "name": "ipython",
    "version": 3
   },
   "file_extension": ".py",
   "mimetype": "text/x-python",
   "name": "python",
   "nbconvert_exporter": "python",
   "pygments_lexer": "ipython3",
   "version": "3.8.8"
  }
 },
 "nbformat": 4,
 "nbformat_minor": 5
}
